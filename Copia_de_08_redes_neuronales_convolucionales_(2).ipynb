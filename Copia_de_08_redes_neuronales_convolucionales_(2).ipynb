{
  "nbformat": 4,
  "nbformat_minor": 0,
  "metadata": {
    "colab": {
      "name": "Copia de 08_redes_neuronales_convolucionales (2).ipynb",
      "provenance": [],
      "collapsed_sections": [],
      "include_colab_link": true
    },
    "kernelspec": {
      "name": "python3",
      "display_name": "Python 3"
    },
    "accelerator": "GPU"
  },
  "cells": [
    {
      "cell_type": "markdown",
      "metadata": {
        "id": "view-in-github",
        "colab_type": "text"
      },
      "source": [
        "<a href=\"https://colab.research.google.com/github/alexsat97/Material-Calendar-View/blob/master/Copia_de_08_redes_neuronales_convolucionales_(2).ipynb\" target=\"_parent\"><img src=\"https://colab.research.google.com/assets/colab-badge.svg\" alt=\"Open In Colab\"/></a>"
      ]
    },
    {
      "cell_type": "markdown",
      "metadata": {
        "id": "FKNAOn5Ia7pG",
        "colab_type": "text"
      },
      "source": [
        "Berta Alsina, Carlota Catot i Alex Satour\n",
        "\n",
        "# 08. Redes neuronales convolucionales\n",
        "[**Python Deep Learning** Introducción práctica con Keras y TensorFlow 2. Jordi Torres. Editorial Marcombo ISBN: 9788426728289 ](https://www.marcombo.com/python-deep-learning-9788426728289/)\n"
      ]
    },
    {
      "cell_type": "code",
      "metadata": {
        "id": "VcFrOCQOYU1R",
        "colab_type": "code",
        "outputId": "5a1bb173-7d56-4211-809c-9d2be691f0b0",
        "colab": {
          "base_uri": "https://localhost:8080/",
          "height": 51
        }
      },
      "source": [
        "%tensorflow_version 2.x\n",
        "import tensorflow as tf\n",
        "from tensorflow import keras\n",
        "\n",
        "import numpy as np\n",
        "import matplotlib.pyplot as plt\n",
        "\n",
        "print(tf.__version__)\n"
      ],
      "execution_count": 1,
      "outputs": [
        {
          "output_type": "stream",
          "text": [
            "TensorFlow 2.x selected.\n",
            "2.1.0\n"
          ],
          "name": "stdout"
        }
      ]
    },
    {
      "cell_type": "markdown",
      "metadata": {
        "id": "Nx0Q9RkQ1hFX",
        "colab_type": "text"
      },
      "source": [
        "## Datos digits MNIST"
      ]
    },
    {
      "cell_type": "code",
      "metadata": {
        "id": "EjwjDIuXeS_s",
        "colab_type": "code",
        "outputId": "a301d772-432e-4a18-b61d-e18328e90d88",
        "colab": {
          "base_uri": "https://localhost:8080/",
          "height": 221
        }
      },
      "source": [
        "from tensorflow.keras import Sequential\n",
        "from tensorflow.keras.layers import Conv2D\n",
        "from tensorflow.keras.layers import MaxPooling2D\n",
        "\n",
        "model = Sequential()\n",
        "model.add(Conv2D(32, (5, 5), activation='relu', input_shape=(28, 28, 1)))\n",
        "model.add(MaxPooling2D((2, 2)))\n",
        "model.summary()"
      ],
      "execution_count": 2,
      "outputs": [
        {
          "output_type": "stream",
          "text": [
            "Model: \"sequential\"\n",
            "_________________________________________________________________\n",
            "Layer (type)                 Output Shape              Param #   \n",
            "=================================================================\n",
            "conv2d (Conv2D)              (None, 24, 24, 32)        832       \n",
            "_________________________________________________________________\n",
            "max_pooling2d (MaxPooling2D) (None, 12, 12, 32)        0         \n",
            "=================================================================\n",
            "Total params: 832\n",
            "Trainable params: 832\n",
            "Non-trainable params: 0\n",
            "_________________________________________________________________\n"
          ],
          "name": "stdout"
        }
      ]
    },
    {
      "cell_type": "code",
      "metadata": {
        "id": "Z7SShiqCGM8g",
        "colab_type": "code",
        "outputId": "9303094c-53fb-4909-ee41-d52531aff2c7",
        "colab": {
          "base_uri": "https://localhost:8080/",
          "height": 289
        }
      },
      "source": [
        "\n",
        "model = Sequential()\n",
        "model.add(Conv2D(32, (5, 5), activation='relu', input_shape=(28, 28, 1)))\n",
        "model.add(MaxPooling2D((2, 2)))\n",
        "model.add(Conv2D(64, (5, 5), activation='relu'))\n",
        "model.add(MaxPooling2D((2, 2)))\n",
        "model.summary()"
      ],
      "execution_count": 3,
      "outputs": [
        {
          "output_type": "stream",
          "text": [
            "Model: \"sequential_1\"\n",
            "_________________________________________________________________\n",
            "Layer (type)                 Output Shape              Param #   \n",
            "=================================================================\n",
            "conv2d_1 (Conv2D)            (None, 24, 24, 32)        832       \n",
            "_________________________________________________________________\n",
            "max_pooling2d_1 (MaxPooling2 (None, 12, 12, 32)        0         \n",
            "_________________________________________________________________\n",
            "conv2d_2 (Conv2D)            (None, 8, 8, 64)          51264     \n",
            "_________________________________________________________________\n",
            "max_pooling2d_2 (MaxPooling2 (None, 4, 4, 64)          0         \n",
            "=================================================================\n",
            "Total params: 52,096\n",
            "Trainable params: 52,096\n",
            "Non-trainable params: 0\n",
            "_________________________________________________________________\n"
          ],
          "name": "stdout"
        }
      ]
    },
    {
      "cell_type": "code",
      "metadata": {
        "id": "T-fqZVN9F18n",
        "colab_type": "code",
        "colab": {}
      },
      "source": [
        "from tensorflow.keras.layers import Dense\n",
        "from tensorflow.keras.layers import Flatten\n",
        "\n",
        "model.add(Flatten())\n",
        "model.add(Dense(10, activation='softmax'))"
      ],
      "execution_count": 0,
      "outputs": []
    },
    {
      "cell_type": "code",
      "metadata": {
        "id": "vJLHWHNueTZH",
        "colab_type": "code",
        "outputId": "4c841bb1-599a-40ce-f44c-478fe4b10ce2",
        "colab": {
          "base_uri": "https://localhost:8080/",
          "height": 357
        }
      },
      "source": [
        "model.summary()"
      ],
      "execution_count": 5,
      "outputs": [
        {
          "output_type": "stream",
          "text": [
            "Model: \"sequential_1\"\n",
            "_________________________________________________________________\n",
            "Layer (type)                 Output Shape              Param #   \n",
            "=================================================================\n",
            "conv2d_1 (Conv2D)            (None, 24, 24, 32)        832       \n",
            "_________________________________________________________________\n",
            "max_pooling2d_1 (MaxPooling2 (None, 12, 12, 32)        0         \n",
            "_________________________________________________________________\n",
            "conv2d_2 (Conv2D)            (None, 8, 8, 64)          51264     \n",
            "_________________________________________________________________\n",
            "max_pooling2d_2 (MaxPooling2 (None, 4, 4, 64)          0         \n",
            "_________________________________________________________________\n",
            "flatten (Flatten)            (None, 1024)              0         \n",
            "_________________________________________________________________\n",
            "dense (Dense)                (None, 10)                10250     \n",
            "=================================================================\n",
            "Total params: 62,346\n",
            "Trainable params: 62,346\n",
            "Non-trainable params: 0\n",
            "_________________________________________________________________\n"
          ],
          "name": "stdout"
        }
      ]
    },
    {
      "cell_type": "code",
      "metadata": {
        "id": "putRyHXReTb5",
        "colab_type": "code",
        "outputId": "8a80b03d-65a3-419e-93a1-181fb6df2dd8",
        "colab": {
          "base_uri": "https://localhost:8080/",
          "height": 136
        }
      },
      "source": [
        "from keras.utils import to_categorical\n",
        "\n",
        "mnist = tf.keras.datasets.mnist\n",
        "(train_images, train_labels), (test_images, test_labels) = mnist.load_data()\n",
        "\n",
        "print (train_images.shape)\n",
        "print (train_labels.shape)\n",
        "train_images = train_images.reshape((60000, 28, 28, 1))\n",
        "train_images = train_images.astype('float32') / 255\n",
        "\n",
        "test_images = test_images.reshape((10000, 28, 28, 1))\n",
        "test_images = test_images.astype('float32') / 255\n",
        "\n",
        "train_labels = to_categorical(train_labels)\n",
        "test_labels = to_categorical(test_labels)\n",
        "\n",
        "print (train_images.shape)\n",
        "print (train_labels.shape)\n"
      ],
      "execution_count": 6,
      "outputs": [
        {
          "output_type": "stream",
          "text": [
            "Downloading data from https://storage.googleapis.com/tensorflow/tf-keras-datasets/mnist.npz\n"
          ],
          "name": "stdout"
        },
        {
          "output_type": "stream",
          "text": [
            "Using TensorFlow backend.\n"
          ],
          "name": "stderr"
        },
        {
          "output_type": "stream",
          "text": [
            "11493376/11490434 [==============================] - 0s 0us/step\n",
            "(60000, 28, 28)\n",
            "(60000,)\n",
            "(60000, 28, 28, 1)\n",
            "(60000, 10)\n"
          ],
          "name": "stdout"
        }
      ]
    },
    {
      "cell_type": "code",
      "metadata": {
        "id": "8jt2EkwxuQf4",
        "colab_type": "code",
        "outputId": "d892d030-affc-4fb3-d367-97bfebf6ba59",
        "colab": {
          "base_uri": "https://localhost:8080/",
          "height": 340
        }
      },
      "source": [
        "\n",
        "model.compile(loss='categorical_crossentropy',\n",
        "              optimizer='sgd',\n",
        "              metrics=['accuracy'])\n",
        "\n",
        "model.fit(train_images, train_labels,\n",
        "          batch_size=20,\n",
        "          epochs=8,\n",
        "          verbose=1)\n",
        "\n",
        "test_loss, test_acc = model.evaluate(test_images, test_labels)\n",
        "\n",
        "print('Test accuracy:', test_acc)"
      ],
      "execution_count": 7,
      "outputs": [
        {
          "output_type": "stream",
          "text": [
            "Train on 60000 samples\n",
            "Epoch 1/8\n",
            "60000/60000 [==============================] - 16s 263us/sample - loss: 0.3443 - accuracy: 0.9014\n",
            "Epoch 2/8\n",
            "60000/60000 [==============================] - 9s 154us/sample - loss: 0.1034 - accuracy: 0.9687\n",
            "Epoch 3/8\n",
            "60000/60000 [==============================] - 9s 153us/sample - loss: 0.0761 - accuracy: 0.9766\n",
            "Epoch 4/8\n",
            "60000/60000 [==============================] - 9s 152us/sample - loss: 0.0620 - accuracy: 0.9810\n",
            "Epoch 5/8\n",
            "60000/60000 [==============================] - 9s 152us/sample - loss: 0.0534 - accuracy: 0.9838\n",
            "Epoch 6/8\n",
            "60000/60000 [==============================] - 9s 152us/sample - loss: 0.0479 - accuracy: 0.9855\n",
            "Epoch 7/8\n",
            "60000/60000 [==============================] - 9s 153us/sample - loss: 0.0433 - accuracy: 0.9871\n",
            "Epoch 8/8\n",
            "60000/60000 [==============================] - 9s 150us/sample - loss: 0.0393 - accuracy: 0.9881\n",
            "10000/10000 [==============================] - 1s 88us/sample - loss: 0.0361 - accuracy: 0.9884\n",
            "Test accuracy: 0.9884\n"
          ],
          "name": "stdout"
        }
      ]
    },
    {
      "cell_type": "markdown",
      "metadata": {
        "id": "vast4lSymWAX",
        "colab_type": "text"
      },
      "source": [
        "Per millorar la precisió del model dissenyat, ha sigut sufient amb modificar el valor dels paràmetres següents:\n",
        "1.   ***epochs***: Nombre de vegades que s'executen els algorismes.\n",
        "2.   ***batch size***: Nombre d'execucions internes (si tenim un batch size de 100, es tendran 10 iteracions per a completar un cicle).\n",
        "\n",
        "Com es pot apreciar, s'ha pogut millorar en més d'un 1% la precisió respecte al model anterior.\n"
      ]
    }
  ]
}